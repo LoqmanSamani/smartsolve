{
 "cells": [
  {
   "cell_type": "code",
   "execution_count": 24,
   "id": "07718187",
   "metadata": {},
   "outputs": [],
   "source": [
    "import random\n",
    "\n",
    "def create_dna(n, alphabet='acgt'):\n",
    "    \n",
    "    return ''.join([random.choice(alphabet).upper() for i in range(n)])\n",
    "\n"
   ]
  },
  {
   "cell_type": "code",
   "execution_count": null,
   "id": "8d2f7f5f",
   "metadata": {},
   "outputs": [
    {
     "name": "stdout",
     "output_type": "stream",
     "text": [
      "function3 0:00:00.000069\n",
      "function4 0:00:00.000052\n",
      "function5 0:00:00.000073\n",
      "function6 0:00:00.000058\n"
     ]
    }
   ],
   "source": [
    "import datetime\n",
    "\n",
    "f1 = datetime.datetime.now()\n",
    "\n",
    "def count3(dna, base):\n",
    "    match = [c == base for c in dna]\n",
    "    return sum(match)\n",
    "f2 = datetime.datetime.now()\n",
    "print('function3',f2-f1)\n",
    "f3 = datetime.datetime.now()\n",
    "\n",
    "def count4(dna, base):\n",
    "    return dna.count(base)\n",
    "f4 = datetime.datetime.now()\n",
    "print('function4',f4-f3)\n",
    "f5 = datetime.datetime.now()\n",
    "\n",
    "def count5(dna, base):\n",
    "    return len([i for i in range(len(dna)) if dna[i] == base])\n",
    "f6 = datetime.datetime.now()\n",
    "print('function5',f6-f5)\n",
    "f7 = datetime.datetime.now()\n",
    "\n",
    "def count6(dna,base):\n",
    "    return sum(c == base for c in dna)\n",
    "f8 = datetime.datetime.now()\n",
    "\n",
    "print('function6',f8-f7)\n",
    "\n",
    "\n",
    "\n",
    "\n",
    "\n",
    "seq = create_dna(10000000000)\n",
    "\n",
    "print(count3(seq))\n",
    "print(count4(seq))\n",
    "print(count5(seq))\n",
    "print(count6(seq))"
   ]
  },
  {
   "cell_type": "code",
   "execution_count": 8,
   "id": "be9fa2b2",
   "metadata": {},
   "outputs": [
    {
     "name": "stdout",
     "output_type": "stream",
     "text": [
      "this file does not exist!!!\n"
     ]
    }
   ],
   "source": [
    "try:\n",
    "    f = open('my_file.py')\n",
    "except IOError:\n",
    "    print('this file does not exist!!!')"
   ]
  },
  {
   "cell_type": "code",
   "execution_count": 88,
   "id": "ec58e6c8",
   "metadata": {},
   "outputs": [
    {
     "name": "stdout",
     "output_type": "stream",
     "text": [
      "this is the last line of my file\n",
      "\n",
      "this is the second line of my file\n",
      "\n",
      "this is the second line of my file\n",
      "\n",
      "this is the second line of my file\n"
     ]
    }
   ],
   "source": [
    "#h = open('dna.py','r')\n",
    "#for line in h:\n",
    "    #print(line)\n",
    "    \n",
    "#h.close()\n",
    "\n",
    "\n",
    "#j = open('dna.py', 'a')\n",
    "\n",
    "#j.write('\\nthis is the second line of my file')\n",
    "\n",
    "\n",
    "#j.close()\n",
    "\n",
    "g = open('dna.py', 'r')\n",
    "for line in g:\n",
    "    print(line)\n",
    "\n",
    "\n",
    "\n",
    "\n"
   ]
  },
  {
   "cell_type": "code",
   "execution_count": null,
   "id": "15abcafd",
   "metadata": {},
   "outputs": [],
   "source": [
    "import Bio\n",
    "from Bio.Blast import NCBIWWW as ncbi\n",
    "from Bio.Blast import NCBIXML as xml\n",
    "\n",
    "\n",
    "\n",
    "\n",
    "\n",
    "\n",
    "file = \"/home/loqman/Downloads/firefox/sequence(1).fasta\"\n",
    "\n",
    "dna = open(file).read()\n",
    "\n",
    "results = ncbi.qblast('blastn', 'nt', dna)\n",
    "\n",
    "read_records = xml.read(results)\n",
    "\n",
    "e_value_threshold = 0.01\n",
    "\n",
    "for alignment in read_records.alignments:\n",
    "    for hsp in alignment.hsps:\n",
    "        count = 1\n",
    "        print(f\"***** ALIGNMENT NUMBER {count} *****\")\n",
    "        print('1) Sequence:',alignment.title)\n",
    "        print('2) Length:', alignment.length)\n",
    "        print('3) E value:'. alignment.expect)\n",
    "        print(hsp.query)\n",
    "        print(hsp.match)\n",
    "        print(hsp.sbjct)\n",
    "        count += 1\n",
    "\n",
    "\n",
    "    "
   ]
  },
  {
   "cell_type": "code",
   "execution_count": null,
   "id": "fa949c6e",
   "metadata": {},
   "outputs": [],
   "source": [
    "from Bio.Blast import NCBIWWW as ncbi\n",
    "from Bio.Blast import NCBIXML as xml\n",
    "\n",
    "\n",
    "file1 = \"TGGGCCTCATATTTATCCTATATACCATGTTCGTATGGTGGCGCGATGTTCTACGTGAATCCACGTTCGAAGGACATCATACCAAAGTCGTACAATTAGGACCTCGATATGGTTTTATTCTGTTTATCGTATCGGAGGTTATGTTCTTTTTTGCTCTTTTTCGGGCTTCTTCTCATTCTTCTTTGGCACCTACGGTAGAG\"\n",
    "results = ncbi.qblast('blastn', 'nt', file1)\n",
    "alignments = []\n",
    "e_values = []\n",
    "reads = xml.read(results)\n",
    "for alignment in reads.alignment:\n",
    "    alignments.append(alignment.title)\n",
    "    e_values.append(alignment.expect)\n",
    "    \n",
    "    \n",
    "\n",
    "print(e_values)\n",
    "print(alignments)\n",
    "\n",
    "    "
   ]
  },
  {
   "cell_type": "code",
   "execution_count": null,
   "id": "ce093624",
   "metadata": {},
   "outputs": [],
   "source": []
  }
 ],
 "metadata": {
  "kernelspec": {
   "display_name": "Python 3 (ipykernel)",
   "language": "python",
   "name": "python3"
  },
  "language_info": {
   "codemirror_mode": {
    "name": "ipython",
    "version": 3
   },
   "file_extension": ".py",
   "mimetype": "text/x-python",
   "name": "python",
   "nbconvert_exporter": "python",
   "pygments_lexer": "ipython3",
   "version": "3.11.3"
  }
 },
 "nbformat": 4,
 "nbformat_minor": 5
}
